{
 "cells": [
  {
   "cell_type": "code",
   "execution_count": 1,
   "metadata": {},
   "outputs": [],
   "source": []
  },
  {
   "cell_type": "markdown",
   "metadata": {},
   "source": [
    "## 1. 我们开始猜数字吧\n"
   ]
  },
  {
   "cell_type": "code",
   "execution_count": null,
   "metadata": {},
   "outputs": [],
   "source": [
    "\n",
    "# 要求：\n",
    "# 1. 使用模块 random，生成 1-100 之间的一个随机数并赋值给 变量A，作为之后要猜的数字；\n",
    "# 2. 使用 input 函数提示用户输入一个数字，将用户输入的字符串类型的内容使用 int() 函数转换成数字类型并赋值给 变量B；\n",
    "# 3. 将 变量B 与 变量A 进行比较，用 if, elif, else 语句判断大小，并输出猜的数字大于/小于/等于 变量A；\n",
    "# 4.  将步骤 2 和 3 中实现的代码放入 while 循环中，使得用户可以反复猜数字（注意要将程序生成的随机数放在循环外面，避免每次循环内部都重新生成随机数）；\n",
    "# 5. 当猜中后，退出 while 循环；"
   ]
  },
  {
   "cell_type": "code",
   "execution_count": 15,
   "metadata": {},
   "outputs": [
    {
     "name": "stdout",
     "output_type": "stream",
     "text": [
      "3\n",
      "你觉得A是多少呢(小提示：1-100的整数)？1\n",
      "太小了\n",
      "你觉得A是多少呢(小提示：1-100的整数)？2\n",
      "太小了\n",
      "你觉得A是多少呢(小提示：1-100的整数)？4\n",
      "太大了\n",
      "你觉得A是多少呢(小提示：1-100的整数)？3\n",
      "bingo\n"
     ]
    }
   ],
   "source": [
    "import random\n",
    "A = random.randint(1,100)\n",
    "print(A)\n",
    "while True:\n",
    "    B = int(input(\"你觉得A是多少呢(小提示：1-100的整数)？\")) \n",
    "    if A<B:\n",
    "        print(\"太大了\")\n",
    "        continue\n",
    "    if A == B:\n",
    "        print(\"bingo\")\n",
    "        break\n",
    "    else : \n",
    "        print(\"太小了\")\n",
    "    "
   ]
  },
  {
   "cell_type": "markdown",
   "metadata": {},
   "source": [
    "## 2. 只来一局不过瘾"
   ]
  },
  {
   "cell_type": "code",
   "execution_count": null,
   "metadata": {},
   "outputs": [],
   "source": [
    "# 要求\n",
    "# 程序在用户猜中答案后，输出猜中答案一共猜了多少轮（用户每输入一次计做一轮），并可以反复进行游戏（用户猜中一次后可选择“继续”还是“退出”）"
   ]
  },
  {
   "cell_type": "code",
   "execution_count": 2,
   "metadata": {},
   "outputs": [
    {
     "name": "stdout",
     "output_type": "stream",
     "text": [
      "81\n",
      "请猜一个1-100的数字：2\n",
      "太小了\n",
      "请猜一个1-100的数字：45\n",
      "太小了\n",
      "请猜一个1-100的数字：99\n",
      "太大了\n",
      "请猜一个1-100的数字：80\n",
      "太小了\n",
      "请猜一个1-100的数字：81\n",
      "猜对了，你一共猜了5轮\n",
      "是否退出游戏，输入y继续，其他退出i\n",
      "游戏已退出，欢迎下次再来\n"
     ]
    }
   ],
   "source": [
    "import random\n",
    "while True:\n",
    "    A = random.randint(1,100)\n",
    "    print(A)\n",
    "    times = 0\n",
    "    while True:\n",
    "        times +=1\n",
    "        B = int(input(\"请猜一个1-100的数字：\"))\n",
    "        if A<B:\n",
    "            print(\"太大了\")\n",
    "            continue\n",
    "        if A == B:\n",
    "            print(\"猜对了，你一共猜了{}轮\".format(times))\n",
    "            break\n",
    "        else : \n",
    "            print(\"太小了\")\n",
    "    flag = input(\"是否退出游戏，输入y继续，其他退出\")\n",
    "    if flag == 'y':\n",
    "        continue\n",
    "    else:\n",
    "        print(\"游戏已退出，欢迎下次再来\")\n",
    "        break"
   ]
  },
  {
   "cell_type": "markdown",
   "metadata": {},
   "source": [
    "## 3. 记录你的成绩"
   ]
  },
  {
   "cell_type": "code",
   "execution_count": null,
   "metadata": {},
   "outputs": [],
   "source": [
    "#要求\n",
    "#统计游戏数据：玩家姓名、总游戏次数（玩家每猜中答案算玩了一次游戏）、\n",
    "#总游戏轮数（玩家每猜一个数字算玩了一轮游戏）、最快猜中轮数，并将结果保存在文件中"
   ]
  },
  {
   "cell_type": "code",
   "execution_count": 26,
   "metadata": {},
   "outputs": [
    {
     "name": "stdout",
     "output_type": "stream",
     "text": [
      "请输入你的名字：vader\n",
      "28\n",
      "请猜一个1-100的数字：49\n",
      "太大了\n",
      "请猜一个1-100的数字：1\n",
      "太小了\n",
      "请猜一个1-100的数字：55\n",
      "太大了\n",
      "请猜一个1-100的数字：28\n",
      "猜对了，你一共猜了4轮\n",
      "nb，你已经玩了1次，最少4轮猜出答案，平均4.0轮猜出答案\n",
      "是否退出游戏，输入y继续，其他退出o\n",
      "游戏已退出，欢迎下次再来！\n"
     ]
    }
   ],
   "source": [
    "import random\n",
    "import pandas as pd\n",
    "\n",
    "\n",
    "#game_info = {'玩家姓名':[],'总游戏次数':[],'最快猜出的轮数':[],'总游戏轮数':[]}\n",
    "player = input(\"请输入你的名字：\")\n",
    "\n",
    "gameTimes = 0     # 总游戏轮数\n",
    "fastTimes = 1000  # 最快猜中轮数\n",
    "timeTimes = 0     # 总游戏轮数\n",
    "\n",
    "\n",
    "\n",
    "while True:\n",
    "    A = random.randint(1,100)\n",
    "    gameTimes += 1\n",
    "    print(A)\n",
    "    times = 0     # 每次游戏轮数\n",
    "    \n",
    "    \n",
    "    while True:\n",
    "        timeTimes +=1\n",
    "        times +=1\n",
    "        B = int(input(\"请猜一个1-100的数字：\"))\n",
    "        if A<B:\n",
    "            print(\"太大了\")\n",
    "            continue\n",
    "        if A == B:            \n",
    "            if fastTimes > times:\n",
    "                fastTimes = times\n",
    "            print(\"猜对了，你一共猜了{}轮\".format(timeTimes))\n",
    "            print(\"nb，你已经玩了{}次，最少{}轮猜出答案，平均{}轮猜出答案\".format(gameTimes,fastTimes,timeTimes/gameTimes))\n",
    "#             game_info.get('玩家姓名').append(player)\n",
    "#             game_info.get('总游戏次数').append(gameTimes)\n",
    "#             game_info.get('最快猜出的轮数').append(fastTimes)\n",
    "#             game_info.get(\"总游戏轮数\").append(timeTimes)            \n",
    "            result = player+\" \"+str(gameTimes)+\" \"+str(fastTimes)+\" \"+str(timeTimes)\n",
    "            path = r'game_one_user.txt' #文件路径\n",
    "            f = open(path,'w',encoding='utf-8')\n",
    "            f.write(result)\n",
    "            f.close()\n",
    "            break            \n",
    "        else : \n",
    "            print(\"太小了\")\n",
    "            \n",
    "            \n",
    "    flag = input(\"是否退出游戏，输入y继续，其他退出\")\n",
    "    if flag == 'y':       \n",
    "        continue        \n",
    "    else:\n",
    "        print(\"游戏已退出，欢迎下次再来！\")\n",
    "        break\n",
    "    \n",
    "        "
   ]
  },
  {
   "cell_type": "markdown",
   "metadata": {},
   "source": [
    "## 4. 你的最好成绩"
   ]
  },
  {
   "cell_type": "code",
   "execution_count": null,
   "metadata": {},
   "outputs": [],
   "source": [
    "# 要求：进入游戏时，从文件读取历史游戏记录，并将游戏数据赋值给一个字典（请大家统一读写上次任务中写入的 game_one_user.txt，以方便老师批改作业）\n",
    "     # 就是在开始玩之前读取txt里的历史记录并载入，完了再开始玩"
   ]
  },
  {
   "cell_type": "code",
   "execution_count": 40,
   "metadata": {},
   "outputs": [
    {
     "name": "stdout",
     "output_type": "stream",
     "text": [
      "['spacingout', '2', '1', '7']\n",
      "spacingout,你已经玩了2次,最少1轮猜出答案,平均7轮猜出答案，开始游戏！\n",
      "请输入你的名字：spacingout\n",
      "75\n",
      "请猜一个1-100的数字：4\n",
      "太小了\n",
      "请猜一个1-100的数字：75\n",
      "猜对了，你一共猜了9轮\n",
      "nb，你已经玩了3次，最少1轮猜出答案，平均3.0轮猜出答案\n",
      "是否退出游戏，输入y继续，其他退出o\n",
      "游戏已退出，欢迎下次再来！\n"
     ]
    }
   ],
   "source": [
    "def history():\n",
    "    with open(\"game_one_user.txt\") as f:\n",
    "        data = f.read()\n",
    "        lstA = data.split()\n",
    "        dicA = {}\n",
    "        if int(lstA[1]) > 0:\n",
    "            print(lstA)\n",
    "            dicA = {lstA[0]:lstA[1:]}\n",
    "            avg_times = int(lstA[3])/int(lstA[1])\n",
    "            \n",
    "            print(\"{},你已经玩了{}次,最少{}轮猜出答案,平均{}轮猜出答案，开始游戏！\".format(lstA[0],lstA[1],lstA[2],lstA[3]))\n",
    "            return dicA\n",
    "        else:\n",
    "            print(\"之前没有有效游戏记录哟~\")\n",
    "            dicA = {\"vader\":[0,0,0]}\n",
    "            \n",
    "def game_body(dicNow):\n",
    "    \n",
    "    player = input(\"请输入你的名字：\")\n",
    "    if int(dicNow[\"spacingout\"][1]) >0:\n",
    "        gameTimes = int(dicNow[player][0])    # 总游戏次数\n",
    "        fastTimes = int(dicNow[player][1])    # 最快猜中轮数\n",
    "        timeTimes = int(dicNow[player][2])    # 总游戏轮数\n",
    "    else:\n",
    "        gameTimes = 0                  \n",
    "        fastTimes = 1000        \n",
    "        timeTimes = 0   \n",
    "\n",
    "    while True:\n",
    "        A = random.randint(1,100)\n",
    "        gameTimes += 1\n",
    "        print(A)\n",
    "        times = 0     # 每次游戏轮数\n",
    "        while True:\n",
    "            timeTimes +=1\n",
    "            times +=1\n",
    "            B = int(input(\"请猜一个1-100的数字：\"))\n",
    "            if A<B:\n",
    "                print(\"太大了\")\n",
    "                continue\n",
    "            if A == B:            \n",
    "                if fastTimes > times:\n",
    "                    fastTimes = times\n",
    "                print(\"猜对了，你一共猜了{}轮\".format(timeTimes))\n",
    "                print(\"nb，你已经玩了{}次，最少{}轮猜出答案，平均{}轮猜出答案\".format(gameTimes,fastTimes,timeTimes/gameTimes))            \n",
    "                result = player+\" \"+str(gameTimes)+\" \"+str(fastTimes)+\" \"+str(timeTimes)\n",
    "                path = r'game_one_user.txt' #文件路径\n",
    "                f = open(path,'w',encoding='utf-8')\n",
    "                f.write(result)\n",
    "                f.close()\n",
    "                break            \n",
    "            else : \n",
    "                print(\"太小了\")\n",
    "        flag = input(\"是否退出游戏，输入y继续，其他退出\")\n",
    "        if flag == 'y':       \n",
    "            continue        \n",
    "        else:\n",
    "            print(\"游戏已退出，欢迎下次再来！\")\n",
    "            break\n",
    "            \n",
    "dicNow = history()  \n",
    "game_body(dicNow)\n",
    "\n"
   ]
  },
  {
   "cell_type": "markdown",
   "metadata": {},
   "source": [
    "## 5. 请朋友来玩\n"
   ]
  },
  {
   "cell_type": "code",
   "execution_count": null,
   "metadata": {},
   "outputs": [],
   "source": [
    "#进入游戏时，输入玩家昵称，按玩家昵称读取之前的游戏数据。结束游戏后，根据玩家昵称，保存玩家的游戏数据到文本（请大家统一读写文件 game_many_user.txt,\n",
    "#如果没有文件 game_many_user.txt，请手动新建）"
   ]
  },
  {
   "cell_type": "code",
   "execution_count": 57,
   "metadata": {},
   "outputs": [
    {
     "name": "stdout",
     "output_type": "stream",
     "text": [
      "现有历史记录为\n",
      "\n",
      "['spacingout 4 1 10\\n', 'vader 2 5 8\\n', 'liubei 4 9 13\\n']\n",
      "请输入你的名字：huamulan\n",
      "记录里没有你的名字哦，已为你建立新的存档~\n",
      "37\n",
      "请猜一个1-100的数字：37\n",
      "猜对了，你一共猜了1轮\n",
      "nb，你已经玩了1次，最少1轮猜出答案，平均1.0轮猜出答案\n",
      "是否退出游戏，输入y继续，其他退出o\n",
      "游戏已退出，欢迎下次再来！\n"
     ]
    }
   ],
   "source": [
    "def historyMany():\n",
    "    with open('game_many_user.txt') as f:\n",
    "        data = f.readlines()\n",
    "        \n",
    "    dicA = {}\n",
    "    for item in data:\n",
    "        temp = item.strip(\"\\n\").split()\n",
    "        dicA[temp[0]]=temp[1:]\n",
    "    print(\"现有历史记录为\\n\")\n",
    "    print(data)\n",
    "    return dicA\n",
    "\n",
    "def game_body(dicNow):\n",
    "    \n",
    "    player = input(\"请输入你的名字：\")\n",
    "    if dicNow.get(player):\n",
    "        print(\"记录里有你的名字耶，你的游戏记录已载入~\")\n",
    "        gameTimes = int(dicNow[player][0])    # 总游戏次数\n",
    "        fastTimes = int(dicNow[player][1])    # 最快猜中轮数\n",
    "        timeTimes = int(dicNow[player][2])    # 总游戏轮数\n",
    "    else:\n",
    "        print(\"记录里没有你的名字哦，已为你建立新的存档~\")\n",
    "        dicNow[player] =[0,0,0]\n",
    "        gameTimes = 0                  \n",
    "        fastTimes = 1000        \n",
    "        timeTimes = 0   \n",
    "\n",
    "    while True:\n",
    "        A = random.randint(1,100)\n",
    "        gameTimes += 1\n",
    "        print(A)\n",
    "        times = 0     # 每次游戏轮数\n",
    "        while True:\n",
    "            timeTimes +=1\n",
    "            times +=1\n",
    "            B = int(input(\"请猜一个1-100的数字：\"))\n",
    "            if A<B:\n",
    "                print(\"太大了\")\n",
    "                continue\n",
    "            if A == B:            \n",
    "                if fastTimes > times:\n",
    "                    fastTimes = times\n",
    "                print(\"猜对了，你一共猜了{}轮\".format(timeTimes))\n",
    "                print(\"nb，你已经玩了{}次，最少{}轮猜出答案，平均{}轮猜出答案\".format(gameTimes,fastTimes,round(timeTimes/gameTimes,2)))            \n",
    "                dicNow[player][0] = str(gameTimes)\n",
    "                dicNow[player][1] = str(fastTimes)\n",
    "                dicNow[player][2] = str(timeTimes)\n",
    "                result = \"\"\n",
    "                for k,v in dicNow.items():\n",
    "                    item = k+\" \"+ \" \".join(v)+\"\\n\"\n",
    "                    result += item                \n",
    "                path = r'game_many_user.txt' #文件路径\n",
    "                f = open(path,'w',encoding='utf-8')\n",
    "                f.write(result)\n",
    "                f.close()\n",
    "                break            \n",
    "            else: \n",
    "                print(\"太小了\")\n",
    "        flag = input(\"是否退出游戏，输入y继续，其他退出\")\n",
    "        if flag == 'y':       \n",
    "            continue        \n",
    "        else:\n",
    "            print(\"游戏已退出，欢迎下次再来！\")\n",
    "            break\n",
    "\n",
    "dicNow = historyMany()  \n",
    "game_body(dicNow)"
   ]
  },
  {
   "cell_type": "markdown",
   "metadata": {},
   "source": [
    "## 6. 答案在网上"
   ]
  },
  {
   "cell_type": "code",
   "execution_count": 3,
   "metadata": {},
   "outputs": [
    {
     "data": {
      "text/plain": [
       "'65'"
      ]
     },
     "execution_count": 3,
     "metadata": {},
     "output_type": "execute_result"
    }
   ],
   "source": [
    "import requests\n",
    "url = \"https://python666.cn/cls/number/guess/\"\n",
    "number = requests.get(url)\n",
    "number.text\n"
   ]
  },
  {
   "cell_type": "code",
   "execution_count": null,
   "metadata": {},
   "outputs": [],
   "source": [
    "def game_body(dicNow):\n",
    "    \n",
    "    player = input(\"请输入你的名字：\")\n",
    "    if dicNow.get(player):\n",
    "        print(\"记录里有你的名字耶，你的游戏记录已载入~\")\n",
    "        gameTimes = int(dicNow[player][0])    # 总游戏次数\n",
    "        fastTimes = int(dicNow[player][1])    # 最快猜中轮数\n",
    "        timeTimes = int(dicNow[player][2])    # 总游戏轮数\n",
    "    else:\n",
    "        print(\"记录里没有你的名字哦，已为你建立新的存档~\")\n",
    "        dicNow[player] =[0,0,0]\n",
    "        gameTimes = 0                  \n",
    "        fastTimes = 1000        \n",
    "        timeTimes = 0   \n",
    "\n",
    "    while True:\n",
    "        A = random.randint(1,100)\n",
    "        gameTimes += 1\n",
    "        print(A)\n",
    "        times = 0     # 每次游戏轮数\n",
    "        while True:\n",
    "            timeTimes +=1\n",
    "            times +=1\n",
    "            B = int(input(\"请猜一个1-100的数字：\"))\n",
    "            if A<B:\n",
    "                print(\"太大了\")\n",
    "                continue\n",
    "            if A == B:            \n",
    "                if fastTimes > times:\n",
    "                    fastTimes = times\n",
    "                print(\"猜对了，你一共猜了{}轮\".format(timeTimes))\n",
    "                print(\"nb，你已经玩了{}次，最少{}轮猜出答案，平均{}轮猜出答案\".format(gameTimes,fastTimes,round(timeTimes/gameTimes,2)))            \n",
    "                dicNow[player][0] = str(gameTimes)\n",
    "                dicNow[player][1] = str(fastTimes)\n",
    "                dicNow[player][2] = str(timeTimes)\n",
    "                result = \"\"\n",
    "                for k,v in dicNow.items():\n",
    "                    item = k+\" \"+ \" \".join(v)+\"\\n\"\n",
    "                    result += item                \n",
    "                \n",
    "                return result\n",
    "                break            \n",
    "            else: \n",
    "                print(\"太小了\")\n",
    "        flag = input(\"是否退出游戏，输入y继续，其他退出\")\n",
    "        if flag == 'y':       \n",
    "            continue        \n",
    "        else:\n",
    "            print(\"游戏已退出，欢迎下次再来！\")\n",
    "            break"
   ]
  },
  {
   "cell_type": "code",
   "execution_count": null,
   "metadata": {},
   "outputs": [],
   "source": [
    "def singleGame():\n",
    "    "
   ]
  }
 ],
 "metadata": {
  "kernelspec": {
   "display_name": "Python 3",
   "language": "python",
   "name": "python3"
  },
  "language_info": {
   "codemirror_mode": {
    "name": "ipython",
    "version": 3
   },
   "file_extension": ".py",
   "mimetype": "text/x-python",
   "name": "python",
   "nbconvert_exporter": "python",
   "pygments_lexer": "ipython3",
   "version": "3.7.2"
  }
 },
 "nbformat": 4,
 "nbformat_minor": 2
}
