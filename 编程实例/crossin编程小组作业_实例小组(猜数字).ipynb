{
 "cells": [
  {
   "cell_type": "code",
   "execution_count": 1,
   "metadata": {},
   "outputs": [],
   "source": []
  },
  {
   "cell_type": "markdown",
   "metadata": {},
   "source": [
    "## 1. 我们开始猜数字吧\n"
   ]
  },
  {
   "cell_type": "code",
   "execution_count": null,
   "metadata": {},
   "outputs": [],
   "source": [
    "\n",
    "# 要求：\n",
    "# 1. 使用模块 random，生成 1-100 之间的一个随机数并赋值给 变量A，作为之后要猜的数字；\n",
    "# 2. 使用 input 函数提示用户输入一个数字，将用户输入的字符串类型的内容使用 int() 函数转换成数字类型并赋值给 变量B；\n",
    "# 3. 将 变量B 与 变量A 进行比较，用 if, elif, else 语句判断大小，并输出猜的数字大于/小于/等于 变量A；\n",
    "# 4.  将步骤 2 和 3 中实现的代码放入 while 循环中，使得用户可以反复猜数字（注意要将程序生成的随机数放在循环外面，避免每次循环内部都重新生成随机数）；\n",
    "# 5. 当猜中后，退出 while 循环；"
   ]
  },
  {
   "cell_type": "code",
   "execution_count": 15,
   "metadata": {},
   "outputs": [
    {
     "name": "stdout",
     "output_type": "stream",
     "text": [
      "3\n",
      "你觉得A是多少呢(小提示：1-100的整数)？1\n",
      "太小了\n",
      "你觉得A是多少呢(小提示：1-100的整数)？2\n",
      "太小了\n",
      "你觉得A是多少呢(小提示：1-100的整数)？4\n",
      "太大了\n",
      "你觉得A是多少呢(小提示：1-100的整数)？3\n",
      "bingo\n"
     ]
    }
   ],
   "source": [
    "import random\n",
    "A = random.randint(1,100)\n",
    "print(A)\n",
    "while True:\n",
    "    B = int(input(\"你觉得A是多少呢(小提示：1-100的整数)？\")) \n",
    "    if A<B:\n",
    "        print(\"太大了\")\n",
    "        continue\n",
    "    if A == B:\n",
    "        print(\"bingo\")\n",
    "        break\n",
    "    else : \n",
    "        print(\"太小了\")\n",
    "    "
   ]
  },
  {
   "cell_type": "markdown",
   "metadata": {},
   "source": [
    "## 2. 只来一局不过瘾"
   ]
  },
  {
   "cell_type": "code",
   "execution_count": null,
   "metadata": {},
   "outputs": [],
   "source": [
    "# 要求\n",
    "# 程序在用户猜中答案后，输出猜中答案一共猜了多少轮（用户每输入一次计做一轮），并可以反复进行游戏（用户猜中一次后可选择“继续”还是“退出”）"
   ]
  },
  {
   "cell_type": "code",
   "execution_count": 2,
   "metadata": {},
   "outputs": [
    {
     "name": "stdout",
     "output_type": "stream",
     "text": [
      "81\n",
      "请猜一个1-100的数字：2\n",
      "太小了\n",
      "请猜一个1-100的数字：45\n",
      "太小了\n",
      "请猜一个1-100的数字：99\n",
      "太大了\n",
      "请猜一个1-100的数字：80\n",
      "太小了\n",
      "请猜一个1-100的数字：81\n",
      "猜对了，你一共猜了5轮\n",
      "是否退出游戏，输入y继续，其他退出i\n",
      "游戏已退出，欢迎下次再来\n"
     ]
    }
   ],
   "source": [
    "import random\n",
    "while True:\n",
    "    A = random.randint(1,100)\n",
    "    print(A)\n",
    "    times = 0\n",
    "    while True:\n",
    "        times +=1\n",
    "        B = int(input(\"请猜一个1-100的数字：\"))\n",
    "        if A<B:\n",
    "            print(\"太大了\")\n",
    "            continue\n",
    "        if A == B:\n",
    "            print(\"猜对了，你一共猜了{}轮\".format(times))\n",
    "            break\n",
    "        else : \n",
    "            print(\"太小了\")\n",
    "    flag = input(\"是否退出游戏，输入y继续，其他退出\")\n",
    "    if flag == 'y':\n",
    "        continue\n",
    "    else:\n",
    "        print(\"游戏已退出，欢迎下次再来\")\n",
    "        break"
   ]
  },
  {
   "cell_type": "markdown",
   "metadata": {},
   "source": [
    "## 3. 记录你的成绩"
   ]
  },
  {
   "cell_type": "code",
   "execution_count": null,
   "metadata": {},
   "outputs": [],
   "source": [
    "#要求\n",
    "#统计游戏数据：玩家姓名、总游戏次数（玩家每猜中答案算玩了一次游戏）、\n",
    "#总游戏轮数（玩家每猜一个数字算玩了一轮游戏）、最快猜中轮数，并将结果保存在文件中"
   ]
  },
  {
   "cell_type": "code",
   "execution_count": 6,
   "metadata": {},
   "outputs": [
    {
     "name": "stdout",
     "output_type": "stream",
     "text": [
      "请输入你的名字：vader\n",
      "100\n",
      "请猜一个1-100的数字：1\n",
      "太小了\n",
      "请猜一个1-100的数字：4\n",
      "太小了\n",
      "请猜一个1-100的数字：59\n",
      "太小了\n",
      "请猜一个1-100的数字：49\n",
      "太小了\n",
      "请猜一个1-100的数字：100\n",
      "猜对了，你一共猜了5轮\n",
      "nb，你已经玩了1次，最少5轮猜出答案，平均5.0轮猜出答案\n",
      "    玩家姓名  总游戏次数  最快猜出的轮数  总游戏轮数\n",
      "0  vader      1        5      5\n",
      "是否退出游戏，输入y继续，其他退出y\n",
      "83\n",
      "请猜一个1-100的数字：5\n",
      "太小了\n",
      "请猜一个1-100的数字：49\n",
      "太小了\n",
      "请猜一个1-100的数字：83\n",
      "猜对了，你一共猜了8轮\n",
      "nb，你已经玩了2次，最少3轮猜出答案，平均4.0轮猜出答案\n",
      "    玩家姓名  总游戏次数  最快猜出的轮数  总游戏轮数\n",
      "0  vader      1        5      5\n",
      "1  vader      2        3      8\n",
      "是否退出游戏，输入y继续，其他退出o\n",
      "游戏已退出，欢迎下次再来！\n"
     ]
    }
   ],
   "source": [
    "import random\n",
    "import pandas as pd\n",
    "\n",
    "\n",
    "game_info = {'玩家姓名':[],'总游戏次数':[],'最快猜出的轮数':[],'总游戏轮数':[]}\n",
    "player = input(\"请输入你的名字：\")\n",
    "\n",
    "gameTimes = 0     # 总游戏轮数\n",
    "fastTimes = 1000  # 最快猜中轮数\n",
    "timeTimes = 0     # 总游戏轮数\n",
    "\n",
    "\n",
    "\n",
    "while True:\n",
    "    A = random.randint(1,100)\n",
    "    gameTimes += 1\n",
    "    print(A)\n",
    "    times = 0     # 每次游戏轮数\n",
    "    \n",
    "    \n",
    "    while True:\n",
    "        timeTimes +=1\n",
    "        times +=1\n",
    "        B = int(input(\"请猜一个1-100的数字：\"))\n",
    "        if A<B:\n",
    "            print(\"太大了\")\n",
    "            continue\n",
    "        if A == B:            \n",
    "            if fastTimes > times:\n",
    "                fastTimes = times\n",
    "            print(\"猜对了，你一共猜了{}轮\".format(timeTimes))\n",
    "            print(\"nb，你已经玩了{}次，最少{}轮猜出答案，平均{}轮猜出答案\".format(gameTimes,fastTimes,timeTimes/gameTimes))\n",
    "            game_info.get('玩家姓名').append(player)\n",
    "            game_info.get('总游戏次数').append(gameTimes)\n",
    "            game_info.get('最快猜出的轮数').append(fastTimes)\n",
    "            game_info.get(\"总游戏轮数\").append(timeTimes)\n",
    "            game_info_df = pd.DataFrame(game_info)\n",
    "            print (game_info_df)\n",
    "            game_info_df.to_excel(\"game_one_user.xlsx\")\n",
    "\n",
    "            break\n",
    "            \n",
    "        else : \n",
    "            print(\"太小了\")\n",
    "            \n",
    "            \n",
    "    flag = input(\"是否退出游戏，输入y继续，其他退出\")\n",
    "    if flag == 'y':       \n",
    "        continue        \n",
    "    else:\n",
    "        print(\"游戏已退出，欢迎下次再来！\")\n",
    "        break\n",
    "    \n",
    "        "
   ]
  },
  {
   "cell_type": "code",
   "execution_count": 1,
   "metadata": {},
   "outputs": [
    {
     "name": "stdout",
     "output_type": "stream",
     "text": [
      "True\n"
     ]
    }
   ],
   "source": []
  },
  {
   "cell_type": "code",
   "execution_count": null,
   "metadata": {},
   "outputs": [],
   "source": []
  }
 ],
 "metadata": {
  "kernelspec": {
   "display_name": "Python 3",
   "language": "python",
   "name": "python3"
  },
  "language_info": {
   "codemirror_mode": {
    "name": "ipython",
    "version": 3
   },
   "file_extension": ".py",
   "mimetype": "text/x-python",
   "name": "python",
   "nbconvert_exporter": "python",
   "pygments_lexer": "ipython3",
   "version": "3.7.2"
  }
 },
 "nbformat": 4,
 "nbformat_minor": 2
}
