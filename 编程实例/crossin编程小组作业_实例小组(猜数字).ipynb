{
 "cells": [
  {
   "cell_type": "code",
   "execution_count": 1,
   "metadata": {},
   "outputs": [],
   "source": []
  },
  {
   "cell_type": "markdown",
   "metadata": {},
   "source": [
    "## 1. 我们开始猜数字吧\n"
   ]
  },
  {
   "cell_type": "code",
   "execution_count": null,
   "metadata": {},
   "outputs": [],
   "source": [
    "\n",
    "# 要求：\n",
    "# 1. 使用模块 random，生成 1-100 之间的一个随机数并赋值给 变量A，作为之后要猜的数字；\n",
    "# 2. 使用 input 函数提示用户输入一个数字，将用户输入的字符串类型的内容使用 int() 函数转换成数字类型并赋值给 变量B；\n",
    "# 3. 将 变量B 与 变量A 进行比较，用 if, elif, else 语句判断大小，并输出猜的数字大于/小于/等于 变量A；\n",
    "# 4.  将步骤 2 和 3 中实现的代码放入 while 循环中，使得用户可以反复猜数字（注意要将程序生成的随机数放在循环外面，避免每次循环内部都重新生成随机数）；\n",
    "# 5. 当猜中后，退出 while 循环；"
   ]
  },
  {
   "cell_type": "code",
   "execution_count": 15,
   "metadata": {},
   "outputs": [
    {
     "name": "stdout",
     "output_type": "stream",
     "text": [
      "3\n",
      "你觉得A是多少呢(小提示：1-100的整数)？1\n",
      "太小了\n",
      "你觉得A是多少呢(小提示：1-100的整数)？2\n",
      "太小了\n",
      "你觉得A是多少呢(小提示：1-100的整数)？4\n",
      "太大了\n",
      "你觉得A是多少呢(小提示：1-100的整数)？3\n",
      "bingo\n"
     ]
    }
   ],
   "source": [
    "import random\n",
    "A = random.randint(1,100)\n",
    "print(A)\n",
    "while True:\n",
    "    B = int(input(\"你觉得A是多少呢(小提示：1-100的整数)？\")) \n",
    "    if A<B:\n",
    "        print(\"太大了\")\n",
    "        continue\n",
    "    if A == B:\n",
    "        print(\"bingo\")\n",
    "        break\n",
    "    else : \n",
    "        print(\"太小了\")\n",
    "    "
   ]
  },
  {
   "cell_type": "markdown",
   "metadata": {},
   "source": [
    "## 2. 只来一局不过瘾"
   ]
  },
  {
   "cell_type": "code",
   "execution_count": null,
   "metadata": {},
   "outputs": [],
   "source": [
    "# 要求\n",
    "# 程序在用户猜中答案后，输出猜中答案一共猜了多少轮（用户每输入一次计做一轮），并可以反复进行游戏（用户猜中一次后可选择“继续”还是“退出”）"
   ]
  },
  {
   "cell_type": "code",
   "execution_count": 19,
   "metadata": {},
   "outputs": [
    {
     "name": "stdout",
     "output_type": "stream",
     "text": [
      "46\n",
      "请猜一个1 - 100的数字：45\n",
      "猜小了，再试试\n",
      "请猜一个1 - 100的数字：49\n",
      "猜大了，再试试\n",
      "请猜一个1 - 100的数字：46\n",
      "猜对了，你一共猜了 3 轮\n",
      "是否继续游戏？(输入y继续，其他退出)y\n",
      "请猜一个1 - 100的数字：49\n",
      "猜大了，再试试\n",
      "请猜一个1 - 100的数字：1\n",
      "猜小了，再试试\n",
      "请猜一个1 - 100的数字：25\n",
      "猜大了，再试试\n",
      "请猜一个1 - 100的数字：17\n",
      "猜大了，再试试\n",
      "请猜一个1 - 100的数字：8\n",
      "猜大了，再试试\n",
      "请猜一个1 - 100的数字：4\n",
      "猜小了，再试试\n",
      "请猜一个1 - 100的数字：6\n",
      "猜大了，再试试\n",
      "请猜一个1 - 100的数字：5\n",
      "猜对了，你一共猜了 8 轮\n",
      "是否继续游戏？(输入y继续，其他退出)o\n",
      "退出游戏，欢迎下次再来！\n"
     ]
    }
   ],
   "source": [
    "import random\n",
    "while True:\n",
    "    A = random.randint(1,100)\n",
    "    print(A)\n",
    "    times = 0\n",
    "    while True:\n",
    "        times +=1\n",
    "        B = int(input(\"请猜一个1-100的数字：\"))\n",
    "        if A<B:\n",
    "            print(\"太大了\")\n",
    "            continue\n",
    "        if A == B:\n",
    "            print(\"bingo\")\n",
    "            break\n",
    "        else : \n",
    "            print(\"太小了\")\n",
    "    flag = input(\"是否退出游戏，输入y继续，其他退出\")\n",
    "    if flag == 'y':\n",
    "        continue\n",
    "    else:\n",
    "        print(\"游戏已退出，欢迎下次再来\")\n",
    "        break"
   ]
  },
  {
   "cell_type": "markdown",
   "metadata": {},
   "source": [
    "## 3. 记录你的成绩"
   ]
  },
  {
   "cell_type": "code",
   "execution_count": null,
   "metadata": {},
   "outputs": [],
   "source": [
    "#要求\n",
    "#统计游戏数据：玩家姓名、总游戏次数（玩家每猜中答案算玩了一次游戏）、\n",
    "#总游戏轮数（玩家每猜一个数字算玩了一轮游戏）、最快猜中轮数，并将结果保存在文件中"
   ]
  },
  {
   "cell_type": "code",
   "execution_count": 4,
   "metadata": {},
   "outputs": [
    {
     "name": "stdout",
     "output_type": "stream",
     "text": [
      "69\n",
      "请猜一个1-100的数字：4\n",
      "太小了\n",
      "请猜一个1-100的数字：69\n",
      "bingo\n",
      "是否退出游戏，输入y继续，其他退出y\n",
      "100\n",
      "请猜一个1-100的数字：4\n",
      "太小了\n",
      "请猜一个1-100的数字：99\n",
      "太小了\n",
      "请猜一个1-100的数字：100\n",
      "bingo\n",
      "是否退出游戏，输入y继续，其他退出k\n",
      "游戏已退出，欢迎下次再来\n"
     ]
    }
   ],
   "source": [
    "import random\n",
    "while True:\n",
    "    A = random.randint(1,100)\n",
    "    print(A)\n",
    "    times = 0\n",
    "    while True:\n",
    "        times +=1\n",
    "        B = int(input(\"请猜一个1-100的数字：\"))\n",
    "        if A<B:\n",
    "            print(\"太大了\")\n",
    "            continue\n",
    "        if A == B:\n",
    "            print(\"bingo\")\n",
    "            break\n",
    "        else : \n",
    "            print(\"太小了\")\n",
    "    flag = input(\"是否退出游戏，输入y继续，其他退出\")\n",
    "    if flag == 'y':\n",
    "        continue\n",
    "    else:\n",
    "        print(\"游戏已退出，欢迎下次再来\")\n",
    "        break\n",
    "    \n",
    "        "
   ]
  },
  {
   "cell_type": "code",
   "execution_count": 1,
   "metadata": {},
   "outputs": [
    {
     "ename": "NameError",
     "evalue": "name 'isdigit' is not defined",
     "output_type": "error",
     "traceback": [
      "\u001b[0;31m--------------------------------------------------------------------------\u001b[0m",
      "\u001b[0;31mNameError\u001b[0m                                Traceback (most recent call last)",
      "\u001b[0;32m<ipython-input-1-38b21f315780>\u001b[0m in \u001b[0;36m<module>\u001b[0;34m()\u001b[0m\n\u001b[1;32m      1\u001b[0m \u001b[0ma\u001b[0m\u001b[0;34m=\u001b[0m\u001b[0;34m\"133\"\u001b[0m\u001b[0;34m\u001b[0m\u001b[0;34m\u001b[0m\u001b[0m\n\u001b[0;32m----> 2\u001b[0;31m \u001b[0mprint\u001b[0m\u001b[0;34m(\u001b[0m\u001b[0misdigit\u001b[0m\u001b[0;34m(\u001b[0m\u001b[0ma\u001b[0m\u001b[0;34m)\u001b[0m\u001b[0;34m)\u001b[0m\u001b[0;34m\u001b[0m\u001b[0;34m\u001b[0m\u001b[0m\n\u001b[0m",
      "\u001b[0;31mNameError\u001b[0m: name 'isdigit' is not defined"
     ]
    }
   ],
   "source": [
    "a=\"133\"\n",
    "print(isdigit(a))"
   ]
  },
  {
   "cell_type": "code",
   "execution_count": null,
   "metadata": {},
   "outputs": [],
   "source": []
  }
 ],
 "metadata": {
  "kernelspec": {
   "display_name": "Python 3",
   "language": "python",
   "name": "python3"
  },
  "language_info": {
   "codemirror_mode": {
    "name": "ipython",
    "version": 3
   },
   "file_extension": ".py",
   "mimetype": "text/x-python",
   "name": "python",
   "nbconvert_exporter": "python",
   "pygments_lexer": "ipython3",
   "version": "3.7.2"
  }
 },
 "nbformat": 4,
 "nbformat_minor": 2
}
