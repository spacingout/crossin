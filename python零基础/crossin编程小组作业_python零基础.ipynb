{
 "cells": [
  {
   "cell_type": "markdown",
   "metadata": {},
   "source": [
    "# python纯零基础入门小组"
   ]
  },
  {
   "cell_type": "code",
   "execution_count": null,
   "metadata": {},
   "outputs": [],
   "source": []
  },
  {
   "cell_type": "markdown",
   "metadata": {},
   "source": [
    "## 2. 变量"
   ]
  },
  {
   "cell_type": "code",
   "execution_count": 1,
   "metadata": {},
   "outputs": [
    {
     "name": "stdout",
     "output_type": "stream",
     "text": [
      "请输入一个数字: \n",
      "你输入的是： \n"
     ]
    }
   ],
   "source": [
    "#1.\n",
    "num = input(\"请输入一个数字: \")\n",
    "print(\"你输入的是：\",num)"
   ]
  },
  {
   "cell_type": "code",
   "execution_count": 2,
   "metadata": {},
   "outputs": [
    {
     "name": "stdout",
     "output_type": "stream",
     "text": [
      "90\n"
     ]
    }
   ],
   "source": [
    "#2.\n",
    "money = 20\n",
    "result = 2*money+50\n",
    "print(result)"
   ]
  },
  {
   "cell_type": "code",
   "execution_count": 3,
   "metadata": {},
   "outputs": [
    {
     "ename": "SyntaxError",
     "evalue": "invalid syntax (<ipython-input-3-2919e2c537c0>, line 2)",
     "output_type": "error",
     "traceback": [
      "\u001b[0;36m  File \u001b[0;32m\"<ipython-input-3-2919e2c537c0>\"\u001b[0;36m, line \u001b[0;32m2\u001b[0m\n\u001b[0;31m    (1) 字符串\u001b[0m\n\u001b[0m          ^\u001b[0m\n\u001b[0;31mSyntaxError\u001b[0m\u001b[0;31m:\u001b[0m invalid syntax\n"
     ]
    }
   ],
   "source": [
    "#3.\n",
    "(1) 字符串\n",
    "(2) 浮点数\n",
    "(3) True\n",
    "(4) False\n",
    "(5) True\n"
   ]
  },
  {
   "cell_type": "code",
   "execution_count": 4,
   "metadata": {},
   "outputs": [
    {
     "name": "stdout",
     "output_type": "stream",
     "text": [
      "True\n"
     ]
    }
   ],
   "source": [
    "print(1!=2)"
   ]
  },
  {
   "cell_type": "markdown",
   "metadata": {},
   "source": [
    "## 3. 字符串与类型转换"
   ]
  },
  {
   "cell_type": "code",
   "execution_count": 5,
   "metadata": {},
   "outputs": [
    {
     "name": "stdout",
     "output_type": "stream",
     "text": [
      "Crossin is 18, he writes Python\n"
     ]
    }
   ],
   "source": [
    "# 1. 字符串拼接\n",
    "\n",
    "name = 'Crossin'\n",
    "age = 18\n",
    "code = 'Python'\n",
    "\n",
    "# 通过 % 将 name, age, code 拼接成一句话\n",
    "# 输出 Crossin is 18, he writes Python.\n",
    "result = \"%s is %d, he writes %s\" %(name,age,code)\n",
    "print(result)"
   ]
  },
  {
   "cell_type": "code",
   "execution_count": 6,
   "metadata": {},
   "outputs": [
    {
     "name": "stdout",
     "output_type": "stream",
     "text": [
      "5.8\n"
     ]
    }
   ],
   "source": [
    "#2. print()\n",
    "\n",
    "num1 = '3.3'\n",
    "num2 = 2.5\n",
    "\n",
    "# 将 num1 转换为浮点数\n",
    "num1 = float(num1)\n",
    "\n",
    "# 再和 num2 相加后输出\n",
    "print( num1+num2 )"
   ]
  },
  {
   "cell_type": "code",
   "execution_count": 7,
   "metadata": {},
   "outputs": [
    {
     "name": "stdout",
     "output_type": "stream",
     "text": [
      "True\n",
      "True\n",
      "True\n",
      "True\n",
      "True\n",
      "True\n",
      "True\n",
      "True\n",
      "True\n"
     ]
    }
   ],
   "source": [
    "# 3. bool类型转换\n",
    "\n",
    "# 判断以下结果的值为 True 还是 False：\n",
    "\n",
    "bool(-123)     #True\n",
    "bool(0)        #False\n",
    "bool('abc')    #True\n",
    "bool('False')  #True\n",
    "bool('')       #False\n",
    "bool([])       #False\n",
    "bool({})       #False\n",
    "bool([''])     #True\n",
    "bool(None)     #False"
   ]
  },
  {
   "cell_type": "markdown",
   "metadata": {},
   "source": [
    "## 4. if"
   ]
  },
  {
   "cell_type": "code",
   "execution_count": 11,
   "metadata": {},
   "outputs": [
    {
     "name": "stdout",
     "output_type": "stream",
     "text": [
      "poor\n"
     ]
    }
   ],
   "source": [
    "# 1. if条件判断\n",
    "money = 88\n",
    "\n",
    "# 当 money 的值大于 100 时，输出 \"rich\"\n",
    "# 否则，输出 \"poor\"\n",
    "\n",
    "if money > 100:\n",
    "    print(\"rich\")\n",
    "else:\n",
    "    print(\"poor\")"
   ]
  },
  {
   "cell_type": "code",
   "execution_count": 24,
   "metadata": {},
   "outputs": [
    {
     "name": "stdout",
     "output_type": "stream",
     "text": [
      "True\n",
      "False\n",
      "False\n",
      "True\n",
      "False\n",
      "True\n",
      "False\n",
      "True\n",
      "False\n"
     ]
    }
   ],
   "source": [
    "# 2. 逻辑判断\n",
    "# 判断下面示例是否会输出 True 并亲自验证\n",
    "\n",
    "# (a)  True\n",
    "bingo = False\n",
    "if bingo == False:\n",
    "    print(True)\n",
    "else:\n",
    "    print(False)\n",
    "\n",
    "# (b) False\n",
    "b = 3\n",
    "if b - 3:\n",
    "    print(True)\n",
    "else:\n",
    "    print(False)\n",
    "    \n",
    "# (c) 不输入为False,其他为True\n",
    "x = input('请输入内容')\n",
    "if x:\n",
    "    print(True)\n",
    "else:\n",
    "    print(False)\n",
    "    \n",
    "# (d) \n",
    "a = True\n",
    "b = not a  # 不记得not请回顾第二课\n",
    "print(b)                 # False\n",
    "print(not b)             # True \n",
    "print(a == b)            # False\n",
    "print(a != b)            # True\n",
    "print(a and b)           # False\n",
    "print(a or b)            # True\n",
    "print(1<2 and b==True)   # False"
   ]
  },
  {
   "cell_type": "code",
   "execution_count": 33,
   "metadata": {},
   "outputs": [
    {
     "name": "stdout",
     "output_type": "stream",
     "text": [
      "请依次输入你的身高(m)、体重(kg)并用空格隔开：1.8 90\n",
      "您的BMI质数为：27.78，你是个死胖子哟\n"
     ]
    }
   ],
   "source": [
    "# 3. BMI 计算器\n",
    "# BMI 指数（即身体质量指数，简称体质指数又称体重，英文为Body Mass Index，简称BMI），是用体重公斤数除以身高米数平方得出的数字\n",
    "\n",
    "# BMI < 18.5 体重偏轻 18.5 <= BMI < 24 体重正常 BMI >= 24 体重偏重 设计一个BMI计算器吧，看看自己体重是否正常。\n",
    "\n",
    "# 输入：身高、体重值\n",
    "\n",
    "# 输出：BMI 指数、是否正常\n",
    "\n",
    "h,w = input(\"请依次输入你的身高(m)、体重(kg)并用空格隔开：\").split()\n",
    "BMI = float(w) / (float(h) ** 2)\n",
    "if BMI < 18.5:\n",
    "    print(\"您的BMI质数为：%.2f，体重偏轻哟~\" % BMI)\n",
    "elif BMI < 24:\n",
    "    print(\"您的BMI质数为：%.2f，体重正常，继续保持哟~\" %BMI)\n",
    "else:\n",
    "    print(\"您的BMI质数为：%.2f，你是个死胖子哟~！\" %BMI)"
   ]
  },
  {
   "cell_type": "code",
   "execution_count": null,
   "metadata": {},
   "outputs": [],
   "source": [
    "## 5. for循环"
   ]
  },
  {
   "cell_type": "code",
   "execution_count": null,
   "metadata": {},
   "outputs": [],
   "source": [
    "# 1. 计算100以内所有3的倍数的和（即：计算3、6、9 ... 96、99 的和）\n",
    "sum = 0\n",
    "for i in range(2,100):\n",
    "    if i%3 == 0:\n",
    "        sum += i\n",
    "print(sum)"
   ]
  },
  {
   "cell_type": "code",
   "execution_count": null,
   "metadata": {},
   "outputs": [],
   "source": [
    "# 2.分别输入高和宽两个整数，输出对应高度和宽度的矩形\n",
    "h,w = input(\"请依次输入高度和宽度，两数字间用空格隔开：\").split()\n",
    "for i in range(0,int(h)):\n",
    "    for j in range(0,int(w)):\n",
    "        print(\"*\", end='')\n",
    "    print()"
   ]
  },
  {
   "cell_type": "code",
   "execution_count": null,
   "metadata": {},
   "outputs": [],
   "source": [
    "# 3. 输出九九乘法口诀表\n",
    "for i in range(1, 10):\n",
    "    for j in range(1,10):\n",
    "        print('%d x %d = %d' % (i,j,i*j))"
   ]
  },
  {
   "cell_type": "code",
   "execution_count": null,
   "metadata": {},
   "outputs": [],
   "source": [
    "# 4. 跳出循环\n",
    "\n",
    "nums = [23, 45, 8, 13, 50, 43, 21]\n",
    "\n",
    "# 把 nums 里的值从前向后累加\n",
    "# 当总和超过 100 时则不再继续累加\n",
    "\n",
    "sum = 0\n",
    "for n in nums:\n",
    "    # 累加\n",
    "    sum += n\n",
    "    \n",
    "    if sum > 100:\n",
    "        # 满足条件时跳出循环\n",
    "        break\n",
    "\n",
    "print(sum)"
   ]
  },
  {
   "cell_type": "markdown",
   "metadata": {},
   "source": [
    "## 6. While"
   ]
  },
  {
   "cell_type": "code",
   "execution_count": 1,
   "metadata": {},
   "outputs": [
    {
     "name": "stdout",
     "output_type": "stream",
     "text": [
      "Guess what I think?\n",
      "4\n",
      "too small!\n",
      "6\n",
      "too small!\n",
      "9\n",
      "too small!\n",
      "15\n",
      "too big!\n",
      "10\n",
      "BINGO!\n"
     ]
    }
   ],
   "source": [
    "# 1. 猜数字小游戏\n",
    "num = 10\n",
    "print ('Guess what I think?')\n",
    "answer = 1 \n",
    "\n",
    "while answer != num:\n",
    "    answer = int(input())\n",
    "    if answer<num:\n",
    "        print ('too small!')\n",
    "    elif answer>num:\n",
    "        print ('too big!')\n",
    "    else:\n",
    "        print ('BINGO!')\n",
    "        break\n"
   ]
  },
  {
   "cell_type": "code",
   "execution_count": 3,
   "metadata": {},
   "outputs": [
    {
     "name": "stdout",
     "output_type": "stream",
     "text": [
      "1\n",
      "2\n",
      "3\n",
      "6\n",
      "7\n",
      "8\n",
      "9\n",
      "10\n"
     ]
    }
   ],
   "source": [
    "# 2. while, continue\n",
    "\n",
    "# 输出 1 到 10，但不输出 4 和 5\n",
    "count = 0\n",
    "while count < 10:\n",
    "    count += 1\n",
    "    if count in [4,5]:\n",
    "        continue\n",
    "    print(count)\n",
    "    \n",
    "    "
   ]
  },
  {
   "cell_type": "code",
   "execution_count": 6,
   "metadata": {},
   "outputs": [
    {
     "name": "stdout",
     "output_type": "stream",
     "text": [
      "1683\n"
     ]
    }
   ],
   "source": [
    "# 3. 使用 while 计算100以内所有3的倍数的和（即：计算3、6、9 ... 96、99 的和）\n",
    "sum = 0\n",
    "num = 0\n",
    "while num <100:\n",
    "    num += 1\n",
    "    if num %3 ==0:\n",
    "        sum += num\n",
    "    else:\n",
    "        continue\n",
    "print(sum)"
   ]
  },
  {
   "cell_type": "markdown",
   "metadata": {},
   "source": [
    "## 7. 列表"
   ]
  },
  {
   "cell_type": "code",
   "execution_count": 3,
   "metadata": {},
   "outputs": [
    {
     "name": "stdout",
     "output_type": "stream",
     "text": [
      "1\n",
      "[1, 4, 3, 5]\n"
     ]
    }
   ],
   "source": [
    "# 1. 操作列表\n",
    "\n",
    "# 创建一个列表 lst，其中的元素依次是 1，2，3\n",
    "lst = [1,2,3]\n",
    "\n",
    "# 输出 lst 中的第一个元素 1\n",
    "print( lst[0] )\n",
    "\n",
    "#将 lst 的第二个元素 2 改为 4\n",
    "lst[1] = 4\n",
    "\n",
    "# 在 lst 末尾再增加一个元素 5\n",
    "lst.append(5)\n",
    "\n",
    "print(lst)"
   ]
  },
  {
   "cell_type": "code",
   "execution_count": 4,
   "metadata": {},
   "outputs": [
    {
     "name": "stdout",
     "output_type": "stream",
     "text": [
      "['everyday', 0.618, True, 2]\n"
     ]
    }
   ],
   "source": [
    "# 2. 列表切片操作\n",
    "lst = [365, 'everyday', 0.618, True, 2, 5]\n",
    "\n",
    "# 取出 lst 的第二个位置至倒数第二个位置的子串\n",
    "# 创建为一个新列表 lst2\n",
    "lst2 = lst[1:-1]\n",
    "print(lst2)"
   ]
  },
  {
   "cell_type": "code",
   "execution_count": 5,
   "metadata": {},
   "outputs": [
    {
     "name": "stdout",
     "output_type": "stream",
     "text": [
      "['I', 'am', 'Mr', 'Crossin', 'of', 'Python']\n",
      "I,am,Mr,Crossin,of,Python\n"
     ]
    }
   ],
   "source": [
    "#3. 分割与连接字符串\n",
    "word = 'I am Mr Crossin of Python'\n",
    "\n",
    "# 将字符串 word 按照空格分割成一个列表\n",
    "lst = word.split()\n",
    "print(lst)\n",
    "\n",
    "# 再将分割后的列表以逗号(,)重新拼接成字符串\n",
    "word = ','\n",
    "print(word.join(lst))\n"
   ]
  },
  {
   "cell_type": "markdown",
   "metadata": {},
   "source": [
    "## 8. 字典和元组"
   ]
  },
  {
   "cell_type": "code",
   "execution_count": 1,
   "metadata": {},
   "outputs": [
    {
     "name": "stdout",
     "output_type": "stream",
     "text": [
      "{'one': 1, 'two': 4, 'three': 3}\n"
     ]
    }
   ],
   "source": [
    "#1. 字典\n",
    "# 创建一个字典，包含 one、two、three 三个键\n",
    "# 对应的值分别为 1，2，3\n",
    "data = { \n",
    "    \"one\":1,\n",
    "    \"two\":2,\n",
    "    \"three\":3    \n",
    "}\n",
    "\n",
    "# 将 two 键对应的值改为 4\n",
    "data[\"two\"] = 4\n",
    "\n",
    "print(data)"
   ]
  },
  {
   "cell_type": "code",
   "execution_count": 5,
   "metadata": {},
   "outputs": [
    {
     "name": "stdout",
     "output_type": "stream",
     "text": [
      "['Beautiful', 'is', 'better', 'than', 'ugly', 'Explicit', 'is', 'better', 'than', 'implicit', 'Simple', 'is', 'better', 'than', 'complex', 'Complex', 'is', 'better', 'than', 'complicated', 'Flat', 'is', 'better', 'than', 'nested', 'Sparse', 'is', 'better', 'than', 'dense']\n",
      "{'Beautiful': 1, 'is': 6, 'better': 6, 'than': 6, 'ugly': 1, 'Explicit': 1, 'implicit': 1, 'Simple': 1, 'complex': 1, 'Complex': 1, 'complicated': 1, 'Flat': 1, 'nested': 1, 'Sparse': 1, 'dense': 1}\n"
     ]
    }
   ],
   "source": [
    "#2. 统计下这段文字里，不同单词出现的次数\n",
    "#Beautiful is better than ugly Explicit is better than implicit Simple is better than complex \n",
    "#Complex is better than complicated Flat is better than nested Sparse is better than dense\n",
    "str1 = \"Beautiful is better than ugly Explicit is better than implicit Simple is better than complex Complex is better than complicated Flat is better than nested Sparse is better than dense\"\n",
    "lst = str1.split()\n",
    "print(lst)\n",
    "dict1 ={}\n",
    "for i in lst:\n",
    "    if i in dict1:\n",
    "        dict1[i] +=1\n",
    "    else:\n",
    "        dict1[i]= 1\n",
    "print(dict1)"
   ]
  },
  {
   "cell_type": "markdown",
   "metadata": {},
   "source": [
    "## 9. 模块"
   ]
  },
  {
   "cell_type": "code",
   "execution_count": 5,
   "metadata": {},
   "outputs": [],
   "source": [
    "import random \n",
    "import math"
   ]
  },
  {
   "cell_type": "code",
   "execution_count": 6,
   "metadata": {},
   "outputs": [
    {
     "name": "stdout",
     "output_type": "stream",
     "text": [
      "1256.6370614359173\n"
     ]
    }
   ],
   "source": [
    "# 1.计算圆面积\n",
    "#math 模块中的 pi 属性是圆周率π\n",
    "\n",
    "# 圆面积公式 S = π * r * r\n",
    "r = 20\n",
    "\n",
    "# 计算半径为 r 的圆面积\n",
    "S = math.pi*r*r\n",
    "print(S)"
   ]
  },
  {
   "cell_type": "code",
   "execution_count": 10,
   "metadata": {},
   "outputs": [
    {
     "name": "stdout",
     "output_type": "stream",
     "text": [
      "97\n"
     ]
    }
   ],
   "source": [
    "# 2.生成10个随机数，输出里面最大的数\n",
    "lst=random.sample(range(1, 100),10)\n",
    "print(max(lst))"
   ]
  },
  {
   "cell_type": "code",
   "execution_count": 14,
   "metadata": {},
   "outputs": [
    {
     "name": "stdout",
     "output_type": "stream",
     "text": [
      "49\n",
      "30\n",
      "too small!\n",
      "66\n",
      "too big!\n",
      "50\n",
      "too big!\n",
      "49\n",
      "BINGO!\n"
     ]
    }
   ],
   "source": [
    "# 3. 将第六课（while循环）练习1的猜数字小游戏中的数字用一个1-100之间的随机数来改写，并在猜中后输出猜了几轮猜中答案\n",
    "answer= random.randint(1,100)\n",
    "num = answer+1\n",
    "print(answer)\n",
    "\n",
    "while answer != num:\n",
    "    num = int(input())\n",
    "    if answer<num:\n",
    "        print ('too big!')\n",
    "    elif answer>num:\n",
    "        print ('too small!')\n",
    "    else:\n",
    "        print ('BINGO!')\n",
    "       "
   ]
  },
  {
   "cell_type": "code",
   "execution_count": 15,
   "metadata": {},
   "outputs": [],
   "source": [
    "#10. 函数"
   ]
  },
  {
   "cell_type": "code",
   "execution_count": 16,
   "metadata": {},
   "outputs": [
    {
     "name": "stdout",
     "output_type": "stream",
     "text": [
      "2\n",
      "3\n"
     ]
    }
   ],
   "source": [
    "# 1. 思考下面这段程序会输出什么并亲自试一试，输出结果：先是函数内部输出2，然后调用函数输出3\n",
    "def func(x):\n",
    "    print (x)\n",
    "    return x+1\n",
    "\n",
    "x = 2\n",
    "print (func(x))"
   ]
  },
  {
   "cell_type": "code",
   "execution_count": 17,
   "metadata": {},
   "outputs": [
    {
     "name": "stdout",
     "output_type": "stream",
     "text": [
      "40\n"
     ]
    }
   ],
   "source": [
    "# 2. 创建函数\n",
    "# 创建一个函数 func，有一个参数 param\n",
    "# 将输入参数的数值乘以2，作为返回值\n",
    "\n",
    "def func(param):\n",
    "    return param*2\n",
    "    \n",
    "\n",
    "p = func(20)\n",
    "print(p)"
   ]
  },
  {
   "cell_type": "code",
   "execution_count": 26,
   "metadata": {},
   "outputs": [
    {
     "name": "stdout",
     "output_type": "stream",
     "text": [
      "[1, 2, 3, 4, 7, 8]\n"
     ]
    }
   ],
   "source": [
    "# 3.实现一个函数，输入参数是两个列表，输出返回值是两个列表元素合并并排序后的结果，比如\n",
    "    #combine([1,5,3], [2,6,7,4]) 返回结果[1,2,3,4,5,6,7]\n",
    "def func(lst1,lst2):\n",
    "    return sorted(lst1+lst2)\n",
    "print(func([1,2,3],[4,7,8]))"
   ]
  },
  {
   "cell_type": "code",
   "execution_count": null,
   "metadata": {},
   "outputs": [],
   "source": []
  }
 ],
 "metadata": {
  "kernelspec": {
   "display_name": "Python 3",
   "language": "python",
   "name": "python3"
  },
  "language_info": {
   "codemirror_mode": {
    "name": "ipython",
    "version": 3
   },
   "file_extension": ".py",
   "mimetype": "text/x-python",
   "name": "python",
   "nbconvert_exporter": "python",
   "pygments_lexer": "ipython3",
   "version": "3.7.2"
  }
 },
 "nbformat": 4,
 "nbformat_minor": 2
}
