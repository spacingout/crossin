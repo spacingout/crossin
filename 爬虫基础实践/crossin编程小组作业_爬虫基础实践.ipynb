{
 "cells": [
  {
   "cell_type": "markdown",
   "metadata": {},
   "source": [
    "# 爬虫基础实践"
   ]
  },
  {
   "cell_type": "markdown",
   "metadata": {},
   "source": [
    "## 1. 爬虫初体验"
   ]
  },
  {
   "cell_type": "code",
   "execution_count": null,
   "metadata": {},
   "outputs": [],
   "source": [
    "#在  jupyter notebook 中，利用 requests 库访问接口 http://wthrcdn.etouch.cn/weather_mini?city=北京，\n",
    "#使程序实现输入一个城市名称，输出此城市当前的天气情况（气温、风力等）的功能"
   ]
  },
  {
   "cell_type": "code",
   "execution_count": 2,
   "metadata": {},
   "outputs": [],
   "source": [
    "import requests"
   ]
  },
  {
   "cell_type": "code",
   "execution_count": 45,
   "metadata": {},
   "outputs": [],
   "source": [
    "import requests\n",
    "def forecast():\n",
    "    while True:\n",
    "        city = input(\"请输入城市，回车退出\")\n",
    "        print(city)\n",
    "        if city:\n",
    "            req = requests.get('http://wthrcdn.etouch.cn/weather_mini?city=%s' %city)\n",
    "            req_data = req.json().get('data').get('forecast')[0]\n",
    "            #print(req_data)\n",
    "            print(req_data.get('date'))\n",
    "            print(req_data.get('high'))\n",
    "            print(req_data.get('low'))\n",
    "            print(req_data.get('type'))\n",
    "            \n",
    "        else:\n",
    "            print(\"未获得，已退出\")\n",
    "            break\n"
   ]
  },
  {
   "cell_type": "markdown",
   "metadata": {},
   "source": [
    "# 2. 你最喜欢哪部电影?"
   ]
  },
  {
   "cell_type": "code",
   "execution_count": null,
   "metadata": {},
   "outputs": [],
   "source": [
    "# 1. 利用豆瓣 api 接口（https://api.douban.com/v2/movie/1292052?apikey=0df993c66c0c636e29ecbb5344252a4a），获得电影 “肖申克的救赎”的电影海报 url 地址，\n",
    "#下载电影海报到本地；"
   ]
  },
  {
   "cell_type": "code",
   "execution_count": 7,
   "metadata": {},
   "outputs": [
    {
     "name": "stdout",
     "output_type": "stream",
     "text": [
      "https://img3.doubanio.com/view/photo/s_ratio_poster/public/p480747492.jpg\n"
     ]
    }
   ],
   "source": [
    "req = requests.get(\n",
    "    url = 'https://api.douban.com/v2/movie/1292052?apikey=0df993c66c0c636e29ecbb5344252a4a',\n",
    "    headers={\n",
    "        \"user-agent\":'chrome'\n",
    "    }\n",
    ")\n",
    "img_url = req.json().get('image')\n",
    "img_content = requests.get(img_url).content\n",
    "\n",
    "with open('1.jpg','wb') as f:\n",
    "    f.write(img_content)\n",
    "print(req_data)"
   ]
  },
  {
   "cell_type": "code",
   "execution_count": null,
   "metadata": {},
   "outputs": [],
   "source": [
    "# 2.利用豆瓣电影 top 250 的 api 接口（ https://api.douban.com/v2/movie/top250?start=0&apikey=0df993c66c0c636e29ecbb5344252a4a），\n",
    "#批量获取250部电影的电影名、主演、评分等数据，保存数据到本地 csv 文件"
   ]
  },
  {
   "cell_type": "code",
   "execution_count": 19,
   "metadata": {},
   "outputs": [
    {
     "name": "stdout",
     "output_type": "stream",
     "text": [
      "9.7\n",
      "肖申克的救赎\n",
      "蒂姆·罗宾斯\n",
      "摩根·弗里曼\n",
      "鲍勃·冈顿\n",
      "         影片名称                            主演   评分\n",
      "0      肖申克的救赎          蒂姆·罗宾斯 摩根·弗里曼 鲍勃·冈顿   9.7\n",
      "1        霸王别姬                   张国荣 张丰毅 巩俐   9.6\n",
      "2        阿甘正传          汤姆·汉克斯 罗宾·怀特 加里·西尼斯   9.5\n",
      "3     这个杀手不太冷          让·雷诺 娜塔莉·波特曼 加里·奥德曼   9.4\n",
      "4        美丽人生    罗伯托·贝尼尼 尼可莱塔·布拉斯基 乔治·坎塔里尼   9.5\n",
      "5       泰坦尼克号     莱昂纳多·迪卡普里奥 凯特·温丝莱特 比利·赞恩   9.4\n",
      "6        千与千寻                柊瑠美 入野自由 夏木真理   9.3\n",
      "7      辛德勒的名单          连姆·尼森 本·金斯利 拉尔夫·费因斯   9.5\n",
      "8        盗梦空间  莱昂纳多·迪卡普里奥 约瑟夫·高登-莱维特 艾伦·佩吉   9.3\n",
      "9     忠犬八公的故事            理查·基尔 萨拉·罗默尔 琼·艾伦   9.4\n",
      "10      海上钢琴师        蒂姆·罗斯 普路特·泰勒·文斯 比尔·努恩   9.3\n",
      "11     机器人总动员          本·贝尔特 艾丽莎·奈特 杰夫·格尔林   9.3\n",
      "12    三傻大闹宝莱坞            阿米尔·汗 卡琳娜·卡普尔 马达范   9.2\n",
      "13      楚门的世界            金·凯瑞 劳拉·琳妮 艾德·哈里斯   9.3\n",
      "14     放牛班的春天      热拉尔·朱尼奥 弗朗索瓦·贝莱昂 凯德·麦拉德   9.3\n",
      "15       星际穿越        马修·麦康纳 安妮·海瑟薇 杰西卡·查斯坦   9.3\n",
      "16  大话西游之大圣娶亲                   周星驰 吴孟达 朱茵   9.2\n",
      "17         熔炉                   孔侑 郑有美 金贤秀   9.3\n",
      "18      疯狂动物城      金妮弗·古德温 杰森·贝特曼 伊德里斯·艾尔巴   9.2\n",
      "19        无间道                  刘德华 梁朝伟 黄秋生   9.2\n"
     ]
    }
   ],
   "source": [
    "\n",
    "movie_info = {'影片名称':[],'主演':[],'评分':[]}\n",
    "req = requests.get(\n",
    "    url = 'https://api.douban.com/v2/movie/top250?start=0&apikey=0df993c66c0c636e29ecbb5344252a4a',\n",
    "    headers={\n",
    "        \"user-agent\":'chrome'\n",
    "    }\n",
    ")\n",
    "req_data  = req.json().get('subjects')\n",
    "print(req_data[0].get('rating').get('average'))\n",
    "print(req_data[0].get(\"title\"))\n",
    "for i in req_data[0].get(\"casts\"):\n",
    "    print(i.get(\"name\"))\n",
    "for item in req_data:\n",
    "    movie_info['影片名称'].append(item.get(\"title\"))\n",
    "    movie_info['评分'].append(item.get('rating').get('average'))\n",
    "    casts = \"\"\n",
    "    for i in item.get(\"casts\"):\n",
    "        casts += i.get(\"name\")+\" \"\n",
    "    movie_info[\"主演\"].append(casts)\n",
    "\n",
    "\n",
    "\n",
    "# 将所有信息先写入dataframe然后再存入Excel\n",
    "import pandas as pd\n",
    "movie_info_df = pd.DataFrame(movie_info)\n",
    "print (movie_info_df)\n",
    "movie_info_df.to_excel(\"豆瓣TOP250影片.xlsx\")"
   ]
  },
  {
   "cell_type": "code",
   "execution_count": null,
   "metadata": {},
   "outputs": [],
   "source": []
  }
 ],
 "metadata": {
  "kernelspec": {
   "display_name": "Python 3",
   "language": "python",
   "name": "python3"
  },
  "language_info": {
   "codemirror_mode": {
    "name": "ipython",
    "version": 3
   },
   "file_extension": ".py",
   "mimetype": "text/x-python",
   "name": "python",
   "nbconvert_exporter": "python",
   "pygments_lexer": "ipython3",
   "version": "3.7.2"
  }
 },
 "nbformat": 4,
 "nbformat_minor": 2
}
