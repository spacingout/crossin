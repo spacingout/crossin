{
 "cells": [
  {
   "cell_type": "markdown",
   "metadata": {},
   "source": [
    "# 爬虫基础实践"
   ]
  },
  {
   "cell_type": "markdown",
   "metadata": {},
   "source": [
    "## 1. 爬虫初体验"
   ]
  },
  {
   "cell_type": "code",
   "execution_count": null,
   "metadata": {},
   "outputs": [],
   "source": [
    "#在  jupyter notebook 中，利用 requests 库访问接口 http://wthrcdn.etouch.cn/weather_mini?city=北京，\n",
    "#使程序实现输入一个城市名称，输出此城市当前的天气情况（气温、风力等）的功能"
   ]
  },
  {
   "cell_type": "code",
   "execution_count": 1,
   "metadata": {},
   "outputs": [],
   "source": [
    "import requests"
   ]
  },
  {
   "cell_type": "code",
   "execution_count": 6,
   "metadata": {
    "collapsed": true
   },
   "outputs": [
    {
     "name": "stdout",
     "output_type": "stream",
     "text": [
      "请输入城市，回车退出济南\n",
      "济南\n",
      "<Response [200]>\n",
      "2日星期四\n",
      "高温 13℃\n",
      "低温 5℃\n",
      "多云\n",
      "请输入城市，回车退出建安\n",
      "建安\n",
      "<Response [200]>\n",
      "查询失败\n",
      "请输入城市，回车退出\n",
      "\n",
      "未获得，已退出\n"
     ]
    }
   ],
   "source": [
    "import requests\n",
    "def forecast():\n",
    "    while True:\n",
    "        city = input(\"请输入城市，回车退出：\")\n",
    "        print(city)\n",
    "        if city:\n",
    "            try:\n",
    "                req = requests.get('http://wthrcdn.etouch.cn/weather_mini?city=%s' %city)\n",
    "                print(req)\n",
    "                req_data = req.json().get('data').get('forecast')[0]\n",
    "            except:\n",
    "                print(\"查询失败\")\n",
    "            else:\n",
    "                print(req_data.get('date'))\n",
    "                print(req_data.get('high'))\n",
    "                print(req_data.get('low'))\n",
    "                print(req_data.get('type'))\n",
    "        else:\n",
    "            print(\"未获得，已退出\")\n",
    "            break\n",
    "forecast()"
   ]
  },
  {
   "cell_type": "markdown",
   "metadata": {},
   "source": [
    "### 知识点：\n",
    "+ get之后的结果req返回的是状态码。\n",
    "\n",
    "+ 想要获得req里的内容，可以使用req.json(),req.text两种方法：\n",
    "    - req.text返回的是内容的文本，其类型是字符串。\n",
    "    - req.json()返回的是则是将JSON格式的返回内容，直接转换为一个字典。另，只有满足json格式的才能用这个方法否则会报错。\n",
    "+ 要第一时间对请求的东西用try except进行检查，完毕后再进行其他操作。\n",
    "    \n"
   ]
  },
  {
   "cell_type": "markdown",
   "metadata": {},
   "source": [
    "# 2. 你最喜欢哪部电影?"
   ]
  },
  {
   "cell_type": "code",
   "execution_count": null,
   "metadata": {},
   "outputs": [],
   "source": [
    "# 1. 利用豆瓣 api 接口（https://api.douban.com/v2/movie/1292052?apikey=0df993c66c0c636e29ecbb5344252a4a），获得电影 “肖申克的救赎”的电影海报 url 地址，\n",
    "#下载电影海报到本地；"
   ]
  },
  {
   "cell_type": "code",
   "execution_count": 7,
   "metadata": {},
   "outputs": [
    {
     "name": "stdout",
     "output_type": "stream",
     "text": [
      "https://img3.doubanio.com/view/photo/s_ratio_poster/public/p480747492.jpg\n"
     ]
    }
   ],
   "source": [
    "req = requests.get(\n",
    "    url = 'https://api.douban.com/v2/movie/1292052?apikey=0df993c66c0c636e29ecbb5344252a4a',\n",
    "    headers={\n",
    "        \"user-agent\":'chrome'\n",
    "    }\n",
    ")\n",
    "img_url = req.json().get('image')\n",
    "img_content = requests.get(img_url).content\n",
    "\n",
    "with open('1.jpg','wb') as f:\n",
    "    f.write(img_content)\n",
    "print(req_data)"
   ]
  },
  {
   "cell_type": "code",
   "execution_count": null,
   "metadata": {},
   "outputs": [],
   "source": [
    "# 2.利用豆瓣电影 top 250 的 api 接口（ https://api.douban.com/v2/movie/top250?start=0&apikey=0df993c66c0c636e29ecbb5344252a4a），\n",
    "#批量获取250部电影的电影名、主演、评分等数据，保存数据到本地 csv 文件"
   ]
  },
  {
   "cell_type": "code",
   "execution_count": 15,
   "metadata": {
    "scrolled": true
   },
   "outputs": [
    {
     "name": "stdout",
     "output_type": "stream",
     "text": [
      "蒂姆·罗宾斯\n",
      "摩根·弗里曼\n",
      "鲍勃·冈顿\n",
      "日高法子\n",
      "坂本千夏\n",
      "糸井重里\n",
      "倍赏千惠子\n",
      "木村拓哉\n",
      "美轮明宏\n",
      "娜塔莉·波特曼\n",
      "雨果·维文\n",
      "斯蒂芬·瑞\n",
      "阿什顿·库彻\n",
      "梅洛拉·沃尔特斯\n",
      "艾米·斯马特\n",
      "夏雨\n",
      "宁静\n",
      "陶虹\n",
      "艾德里安·布洛迪\n",
      "马西娅·盖伊·哈登\n",
      "詹姆斯·肯恩\n",
      "多姆纳尔·格里森\n",
      "瑞秋·麦克亚当斯\n",
      "比尔·奈伊\n",
      "张国荣\n",
      "林青霞\n",
      "梁朝伟\n",
      "岩男润子\n",
      "松本梨香\n",
      "辻亲八\n",
      "布拉德·皮特\n",
      "安东尼·霍普金斯\n",
      "艾丹·奎因\n",
      "尼古拉斯·凯奇\n",
      "布丽姬·穆娜\n",
      "杰瑞德·莱托\n",
      "乔什·哈奈特\n",
      "伊万·麦克格雷格\n",
      "汤姆·塞兹摩尔\n",
      "             影片名称                            主演   评分\n",
      "0          肖申克的救赎          蒂姆·罗宾斯 摩根·弗里曼 鲍勃·冈顿   9.7\n",
      "1            霸王别姬                   张国荣 张丰毅 巩俐   9.6\n",
      "2            阿甘正传          汤姆·汉克斯 罗宾·怀特 加里·西尼斯   9.5\n",
      "3         这个杀手不太冷          让·雷诺 娜塔莉·波特曼 加里·奥德曼   9.4\n",
      "4            美丽人生    罗伯托·贝尼尼 尼可莱塔·布拉斯基 乔治·坎塔里尼   9.5\n",
      "5           泰坦尼克号     莱昂纳多·迪卡普里奥 凯特·温丝莱特 比利·赞恩   9.4\n",
      "6            千与千寻                柊瑠美 入野自由 夏木真理   9.3\n",
      "7          辛德勒的名单          连姆·尼森 本·金斯利 拉尔夫·费因斯   9.5\n",
      "8            盗梦空间  莱昂纳多·迪卡普里奥 约瑟夫·高登-莱维特 艾伦·佩吉   9.3\n",
      "9         忠犬八公的故事            理查·基尔 萨拉·罗默尔 琼·艾伦   9.4\n",
      "10          海上钢琴师        蒂姆·罗斯 普路特·泰勒·文斯 比尔·努恩   9.3\n",
      "11         机器人总动员          本·贝尔特 艾丽莎·奈特 杰夫·格尔林   9.3\n",
      "12        三傻大闹宝莱坞            阿米尔·汗 卡琳娜·卡普尔 马达范   9.2\n",
      "13          楚门的世界            金·凯瑞 劳拉·琳妮 艾德·哈里斯   9.3\n",
      "14         放牛班的春天      热拉尔·朱尼奥 弗朗索瓦·贝莱昂 凯德·麦拉德   9.3\n",
      "15           星际穿越        马修·麦康纳 安妮·海瑟薇 杰西卡·查斯坦   9.3\n",
      "16      大话西游之大圣娶亲                   周星驰 吴孟达 朱茵   9.2\n",
      "17             熔炉                   孔侑 郑有美 金贤秀   9.3\n",
      "18          疯狂动物城      金妮弗·古德温 杰森·贝特曼 伊德里斯·艾尔巴   9.2\n",
      "19            无间道                  刘德华 梁朝伟 黄秋生   9.2\n",
      "20             龙猫               日高法子 坂本千夏 糸井重里   9.2\n",
      "21             教父         马龙·白兰度 阿尔·帕西诺 詹姆斯·肯恩   9.3\n",
      "22         当幸福来敲门          威尔·史密斯 贾登·史密斯 坦迪·牛顿   9.1\n",
      "23           怦然心动    玛德琳·卡罗尔 卡兰·麦克奥利菲 瑞贝卡·德·莫妮   9.1\n",
      "24           触不可及          弗朗索瓦·克鲁塞 奥玛·希 安娜·勒尼   9.2\n",
      "25       蝙蝠侠：黑暗骑士       克里斯蒂安·贝尔 希斯·莱杰 艾伦·艾克哈特   9.2\n",
      "26           控方证人          泰隆·鲍华 玛琳·黛德丽 查尔斯·劳顿   9.6\n",
      "27             活着                     葛优 巩俐 姜武   9.2\n",
      "28           乱世佳人        费雯·丽 克拉克·盖博 奥利维娅·德哈维兰   9.3\n",
      "29          寻梦环游记  安东尼·冈萨雷斯 盖尔·加西亚·贝纳尔 本杰明·布拉特   9.1\n",
      "..            ...                           ...  ...\n",
      "220          战争之王        尼古拉斯·凯奇 布丽姬·穆娜 杰瑞德·莱托   8.6\n",
      "221            青蛇                  张曼玉 王祖贤 赵文卓   8.5\n",
      "222          城市之光       查理·卓别林 弗吉尼亚·切瑞尔 佛罗伦斯·李   9.3\n",
      "223        地球上的星星         达席尔·萨法瑞 阿米尔·汗 塔奈·切赫达   8.9\n",
      "224            血钻     莱昂纳多·迪卡普里奥 杰曼·翰苏 詹妮弗·康纳利   8.6\n",
      "225            浪潮      于尔根·福格尔 弗雷德里克·劳 马克思·雷迈特   8.7\n",
      "226           朗读者       凯特·温丝莱特 大卫·克劳斯 拉尔夫·费因斯   8.6\n",
      "227       彗星来的那一夜     艾米丽·芭尔多尼 莫瑞·史特林 尼古拉斯·布兰登   8.5\n",
      "228  疯狂的麦克斯4：狂暴之路        汤姆·哈迪 查理兹·塞隆 尼古拉斯·霍尔特   8.6\n",
      "229           色，戒                    梁朝伟 汤唯 陈冲   8.4\n",
      "230          步履不停               阿部宽 夏川结衣 江原由希子   8.8\n",
      "231          遗愿清单        杰克·尼科尔森 摩根·弗里曼 西恩·海耶斯   8.6\n",
      "232         大佛普拉斯                  庄益增 陈竹昇 戴立忍   8.7\n",
      "233      小萝莉的猴神大叔       萨尔曼·汗 哈莎莉·马洛特拉 卡琳娜·卡普尔   8.4\n",
      "234    再次出发之纽约遇见你          凯拉·奈特莉 马克·鲁弗洛 亚当·莱文   8.5\n",
      "235            追随       杰里米·西奥伯德 亚历克斯·霍 露西·拉塞尔   8.9\n",
      "236            聚焦       马克·鲁弗洛 迈克尔·基顿 瑞秋·麦克亚当斯   8.8\n",
      "237          东京物语                 笠智众 原节子 杉村春子   9.2\n",
      "238          一次别离         佩曼·莫阿迪 蕾拉·哈塔米 萨瑞·巴亚特   8.7\n",
      "239           驴得水                   任素汐 大力 刘帅良   8.3\n",
      "240          黑鹰坠落      乔什·哈奈特 伊万·麦克格雷格 汤姆·塞兹摩尔   8.7\n",
      "241           我爱你                  宋在浩 李顺载 尹秀晶   9.0\n",
      "242          千钧一发             伊桑·霍克 乌玛·瑟曼 裘德·洛   8.8\n",
      "243           发条橙    马尔科姆·麦克道威尔 帕特里克·马基 迈克尔·贝茨   8.5\n",
      "244          网络谜踪            约翰·赵 米切尔·拉 黛博拉·梅辛   8.6\n",
      "245          四个春天                  陆运坤 李桂贤 陆庆伟   8.9\n",
      "246      E.T. 外星人       亨利·托马斯 迪·沃伦斯 罗伯特·麦克纳夫顿   8.6\n",
      "247            撞车          桑德拉·布洛克 唐·钱德尔 马特·狄龙   8.6\n",
      "248            变脸        约翰·特拉沃尔塔 尼古拉斯·凯奇 琼·艾伦   8.5\n",
      "249         梦之安魂曲        艾伦·伯斯汀 杰瑞德·莱托 詹妮弗·康纳利   8.7\n",
      "\n",
      "[250 rows x 3 columns]\n"
     ]
    }
   ],
   "source": [
    "import time\n",
    "import os\n",
    "movie_info = {'影片名称':[],'主演':[],'评分':[]}\n",
    "\n",
    "for j in range(0,13):\n",
    "    \n",
    "    req = requests.get(\n",
    "        url = 'https://api.douban.com/v2/movie/top250?start={}&apikey=0df993c66c0c636e29ecbb5344252a4a'.format(j*20),\n",
    "        headers={\n",
    "            \"user-agent\":'chrome'\n",
    "        }\n",
    "    )\n",
    "    req_data  = req.json().get('subjects')\n",
    "    \n",
    "#     for i in req_data[0].get(\"casts\"):\n",
    "#         print(i.get(\"name\"))\n",
    "    for item in req_data:\n",
    "        movie_info['影片名称'].append(item.get(\"title\"))\n",
    "        movie_info['评分'].append(item.get('rating').get('average'))\n",
    "        casts = \"\"\n",
    "        for i in item.get(\"casts\"):\n",
    "            casts += i.get(\"name\")+\" \"\n",
    "        movie_info[\"主演\"].append(casts)\n",
    "        \n",
    "        # 下载图片\n",
    "        img_url_250 = item.get(\"images\").get(\"small\")\n",
    "        img_250_content = requests.get(img_url_250).content\n",
    "        if not os.path.exists(\"task2\"):\n",
    "            os.makedirs(\"task2\")\n",
    "        with open('task2/{}.jpg'.format(item.get(\"title\")),'wb') as f:\n",
    "            f.write(img_250_content)\n",
    "        \n",
    "    time.sleep(2)\n",
    "\n",
    "\n",
    "# 将所有信息先写入dataframe然后再存入Excel\n",
    "import pandas as pd\n",
    "movie_info_df = pd.DataFrame(movie_info)\n",
    "print (movie_info_df)\n",
    "movie_info_df.to_excel(\"豆瓣TOP250影片.xlsx\")"
   ]
  },
  {
   "cell_type": "markdown",
   "metadata": {},
   "source": [
    "## 3. 换个方式刷微博"
   ]
  },
  {
   "cell_type": "code",
   "execution_count": null,
   "metadata": {},
   "outputs": [],
   "source": [
    "# 抓取 微博热点 页面并保存为本地的 HTML 页面"
   ]
  },
  {
   "cell_type": "code",
   "execution_count": 6,
   "metadata": {},
   "outputs": [
    {
     "name": "stdout",
     "output_type": "stream",
     "text": [
      "<Response [200]>\n",
      "保存成功！\n"
     ]
    }
   ],
   "source": [
    "import requests\n",
    "\n",
    "url = \"https://weibo.com/a/hot/realtime\"\n",
    "headers={\n",
    "    'cookies':'SINAGLOBAL=2715260232015.1533.1573722703548; _s_tentry=bbs.yingjiesheng.com; TC-V5-G0=eb26629f4af10d42f0485dca5a8e5e20; Apache=8496232818321.212.1579423723182; ULV=1579423723214:3:1:1:8496232818321.212.1579423723182:1576467025213; login_sid_t=70cece3c7a28c358cdc318475f5c806e; cross_origin_proto=SSL; SSOLoginState=1580126809; Ugrow-G0=cf25a00b541269674d0feadd72dce35f; SCF=Aond88maqZIafoD9onYScQ-MmE6Rjey5naX6fVx2cWvU9GQZV20LgdpKbmSANC47ULhLLCjC-6o6QpengHzF1pQ.; SUHB=0M2FRf-9-EymPt; ALF=1612145995; SUB=_2AkMpZbiHf8NxqwJRmfoWy2rlZY11ywjEieKfOUlcJRMxHRl-yT9kqnIdtRB6AuWWaJTmo8irBV2-MKS4OetLroH60aBE; SUBP=0033WrSXqPxfM72-Ws9jqgMF55529P9D9WWphmXfN7fXQBGVGVA9vQn1; WBtopGlobal_register_version=307744aa77dd5677; TC-Page-G0=7a922a70806a77294c00d51d22d0a6b7|1583314511|1583314511; UOR=bbs.yingjiesheng.com,widget.weibo.com,ent.ifeng.com; WBStorage=42212210b087ca50|undefined',\n",
    "    'User-Agent': 'Mozilla/5.0 (Macintosh; Intel Mac OS X 10_13_6) AppleWebKit/537.36 (KHTML, like Gecko) Chrome/80.0.3987.122 Safari/537.36'\n",
    "}\n",
    "r = requests.get(url, headers = headers)\n",
    "print(r)\n",
    "try:\n",
    "    with open('task3_weibo.html','wb') as f:\n",
    "        f.write(r.content)\n",
    "        \n",
    "except Exception as e:\n",
    "    print('保存失败:',e)\n",
    "else:\n",
    "    print('保存成功！')"
   ]
  },
  {
   "cell_type": "markdown",
   "metadata": {},
   "source": [
    "## 4. 登录后玩玩知乎"
   ]
  },
  {
   "cell_type": "code",
   "execution_count": null,
   "metadata": {},
   "outputs": [],
   "source": [
    "#登录知乎后抓取你的知乎时间线内容并将结果保存在本地的 csv 文件中"
   ]
  },
  {
   "cell_type": "code",
   "execution_count": null,
   "metadata": {},
   "outputs": [],
   "source": [
    "import requests\n",
    "\n",
    "url = \"https://www.zhihu.com/api/v3/feed/topstory/recommend?session_token=c89ab107f47a6bada6fcffea021375c0&desktop=true&page_number=3&limit=6&action=down&after_id=11&ad_interval=-1\"\n",
    "headers={\n",
    "    'cookies':'_zap=4403728d-c80a-4139-b036-1de499f4196e; d_c0=\"AMDvQm--aBCPTiwOMI4koujRiVO_qHjQ0pE=|1574687150\"; q_c1=d690901a14634a37918805466eb95312|1582976786000|1577593615000; _ga=GA1.2.130813837.1582982228; capsion_ticket=\"2|1:0|10:1583300996|14:capsion_ticket|44:OWY2YzE5MWFhNjZjNDkyODgwYmJlZWVlODM5MTc1ZjU=|3693cb07c0687994994340cf375a163537eceaccdb54bc41311d6d480f5be128\"; z_c0=\"2|1:0|10:1583301081|4:z_c0|92:Mi4xUVF3MUNnQUFBQUFBd085Q2I3NW9FQ2NBQUFDRUFsVk4yYzZHWGdDOEd0dlJhaXd6TmpaUEswc0Mwc1RtdUU3eXhB|aa3792b8570fead25b537be04fc90fbf4b0da478219c84269c45ab2a292c2706\"; Hm_lvt_98beee57fd2ef70ccdd5ca52b9740c49=1582982226,1583311396,1583314098,1583315115; _xsrf=98erB0oJX3hcSt9h6CjahQjeWlTdzVI7; tst=r; SESSIONID=SGa5Un7KnbryhK6esafbVjO5Ho9PmGTquUGrxfEFvsH; JOID=UlAdBE42S9iXHqr1JTHGBsRLHRM9bQy2oE7MwmFdIarhdOTLQM_BUc4TovooArxAHvBERgWsJ02ov4y55_jyAVQ=; osd=Wl8RCkk-RNSZGaL6KT_BDstHExQ1YgC4p0bDzm9aKaXteuPDT8PPVsYcrvQvCrNMEPdMSQmiIEWns4K-7_f-D1M=; KLBRSID=57358d62405ef24305120316801fd92a|1585743526|1585743339'\n",
    "    'User-Agent': 'Mozilla/5.0 (Macintosh; Intel Mac OS X 10_13_6) AppleWebKit/537.36 (KHTML, like Gecko) Chrome/80.0.3987.122 Safari/537.36'\n",
    "}\n",
    "r = requests.get(url, headers = headers)\n",
    "print(r)\n",
    "try:\n",
    "    with open('task3_weibo.html','wb') as f:\n",
    "        f.write(r.content)\n",
    "        \n",
    "except Exception as e:\n",
    "    print('保存失败:',e)\n",
    "else:\n",
    "    print('保存成功！')"
   ]
  },
  {
   "cell_type": "code",
   "execution_count": null,
   "metadata": {},
   "outputs": [],
   "source": []
  }
 ],
 "metadata": {
  "kernelspec": {
   "display_name": "Python 3",
   "language": "python",
   "name": "python3"
  },
  "language_info": {
   "codemirror_mode": {
    "name": "ipython",
    "version": 3
   },
   "file_extension": ".py",
   "mimetype": "text/x-python",
   "name": "python",
   "nbconvert_exporter": "python",
   "pygments_lexer": "ipython3",
   "version": "3.7.2"
  }
 },
 "nbformat": 4,
 "nbformat_minor": 2
}
